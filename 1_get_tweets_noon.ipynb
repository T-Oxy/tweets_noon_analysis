{
 "cells": [
  {
   "cell_type": "markdown",
   "id": "66fab553",
   "metadata": {},
   "source": [
    "## Import libraries and setting various keys(!!Unauthorized use prohibited!!)"
   ]
  },
  {
   "cell_type": "code",
   "execution_count": 1,
   "id": "5ec8ac6a",
   "metadata": {},
   "outputs": [],
   "source": [
    "# coding:utf-8\n",
    "import tweepy\n",
    "import re\n",
    "import datetime\n",
    "import pandas as pd\n",
    "\n",
    "# setting keys(remove)\n",
    "consumer_key = \"\"\n",
    "consumer_secret = \"\"\n",
    "access_key = \"\"\n",
    "access_secret = \"\""
   ]
  },
  {
   "cell_type": "markdown",
   "id": "ed7b73cd",
   "metadata": {},
   "source": [
    "## Get tweets including '正午'(='noon')"
   ]
  },
  {
   "cell_type": "code",
   "execution_count": 2,
   "id": "782b4cee",
   "metadata": {},
   "outputs": [],
   "source": [
    "pd.set_option(\"display.max_colwidth\", 280)\n",
    "\n",
    "def get_api_value(consumer_key,consumer_secret,access_token,access_secret):\n",
    "    auth = tweepy.OAuthHandler(consumer_key, consumer_secret)\n",
    "    auth.set_access_token(access_token, access_secret)\n",
    "    api = tweepy.API(auth, wait_on_rate_limit = True)\n",
    "    return api\n",
    "\n",
    "\n",
    "def collect_tweet_data(q, api):\n",
    "    tweet_data = []\n",
    "    for tweet in tweepy.Cursor(api.search_tweets, q=q, result_type='recent', count=100).items(17500):\n",
    "        tweet_data.append([tweet.id_str,\n",
    "                           tweet.user.screen_name,\n",
    "                           tweet.created_at+datetime.timedelta(hours=9),\n",
    "                           tweet.text.replace('\\n',''),\n",
    "                           tweet.favorite_count,tweet.retweet_count])\n",
    "\n",
    "    return tweet_data\n",
    "\n",
    "def create_tweets_df(q,api):\n",
    "    tweet_data = collect_tweet_data(q=q,api=api)\n",
    "    columns_name=[\"TW_NO\",\"USER_NAME\",\"TW_TIME\",\"TW_TEXT\",\"FAV\",\"RT\"]\n",
    "    df=pd.DataFrame(tweet_data,columns=columns_name)\n",
    "    return df\n",
    "\n",
    "api=get_api_value(consumer_key,consumer_secret,access_key,access_secret)\n",
    "\n",
    "q = f\"'正午' exclude:retweets -filter:replies\"\n",
    "df = create_tweets_df(q, api)"
   ]
  },
  {
   "cell_type": "markdown",
   "id": "eace24c7",
   "metadata": {},
   "source": [
    "## Output the result to a csv file"
   ]
  },
  {
   "cell_type": "code",
   "execution_count": 3,
   "id": "e9e8a674",
   "metadata": {},
   "outputs": [],
   "source": [
    "df.to_csv(\"tweets_noon_20220427.csv\")"
   ]
  }
 ],
 "metadata": {
  "kernelspec": {
   "display_name": "Python 3",
   "language": "python",
   "name": "python3"
  },
  "language_info": {
   "codemirror_mode": {
    "name": "ipython",
    "version": 3
   },
   "file_extension": ".py",
   "mimetype": "text/x-python",
   "name": "python",
   "nbconvert_exporter": "python",
   "pygments_lexer": "ipython3",
   "version": "3.8.8"
  }
 },
 "nbformat": 4,
 "nbformat_minor": 5
}
