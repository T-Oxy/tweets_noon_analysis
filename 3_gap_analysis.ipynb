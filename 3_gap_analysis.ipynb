{
 "cells": [
  {
   "cell_type": "markdown",
   "metadata": {},
   "source": [
    "## Import libraries"
   ]
  },
  {
   "cell_type": "code",
   "execution_count": 100,
   "metadata": {},
   "outputs": [],
   "source": [
    "import csv\n",
    "import seaborn as sns\n",
    "from matplotlib import pyplot as plt\n",
    "import numpy as np\n"
   ]
  },
  {
   "cell_type": "markdown",
   "metadata": {},
   "source": [
    "## Enter GAP in lists"
   ]
  },
  {
   "cell_type": "code",
   "execution_count": 91,
   "metadata": {},
   "outputs": [],
   "source": [
    "NAU,IMA,MADA,MOU,ALL = [],[],[],[],[]\n",
    "with open('tweets_noon_ALL_gap.csv','r') as f:\n",
    "    reader = csv.reader(f)\n",
    "    header = next(reader)\n",
    "    for row in reader:\n",
    "        ALL.append(float(row[1]))\n",
    "\n",
    "with open('tweets_noon_NAU_gap.csv','r') as f:\n",
    "    reader = csv.reader(f)\n",
    "    header = next(reader)\n",
    "    for row in reader:\n",
    "        NAU.append(float(row[1]))\n",
    "\n",
    "with open('tweets_noon_IMA_gap.csv','r') as f:\n",
    "    reader = csv.reader(f)\n",
    "    header = next(reader)\n",
    "    for row in reader:\n",
    "        IMA.append(float(row[1]))\n",
    "\n",
    "with open('tweets_noon_MADA_gap.csv','r') as f:\n",
    "    reader = csv.reader(f)\n",
    "    header = next(reader)\n",
    "    for row in reader:\n",
    "        MADA.append(float(row[1]))\n",
    "\n",
    "with open('tweets_noon_MOU_gap.csv','r') as f:\n",
    "    reader = csv.reader(f)\n",
    "    header = next(reader)\n",
    "    for row in reader:\n",
    "        MOU.append(float(row[1]))\n"
   ]
  },
  {
   "cell_type": "code",
   "execution_count": 101,
   "metadata": {},
   "outputs": [
    {
     "name": "stdout",
     "output_type": "stream",
     "text": [
      "92.48648648648648\n",
      "1737.1538461538462\n",
      "612.6\n",
      "6.293103448275862\n",
      "2571.7186540072607\n"
     ]
    }
   ],
   "source": [
    "print(np.mean(NAU))\n",
    "print(np.mean(IMA))\n",
    "print(np.mean(MADA))\n",
    "print(np.mean(MOU))\n",
    "print(np.mean(ALL))"
   ]
  },
  {
   "cell_type": "markdown",
   "metadata": {},
   "source": [
    "## Box plot"
   ]
  },
  {
   "cell_type": "code",
   "execution_count": 97,
   "metadata": {},
   "outputs": [
    {
     "data": {
      "image/png": "[encoded data removed]",
      "text/plain": [
       "<Figure size 432x432 with 1 Axes>"
      ]
     },
     "metadata": {
      "needs_background": "light"
     },
     "output_type": "display_data"
    }
   ],
   "source": [
    "data = [NAU,IMA,MADA,MOU,ALL]\n",
    "\n",
    "fig=plt.figure(figsize=(6,6))\n",
    "ax=fig.add_subplot(111)\n",
    "ax.boxplot(data,\n",
    "           whis=1,\n",
    "           patch_artist=True,  \n",
    "           widths=0.5,  \n",
    "           boxprops=dict(facecolor='#ffffffff',color='black', linewidth=1),\n",
    "           medianprops=dict(color='red', linewidth=1.5),\n",
    "           whiskerprops=dict(color='black', linewidth=1),\n",
    "           capprops=dict(color='black', linewidth=1),\n",
    "           flierprops=dict(markeredgecolor='black', markeredgewidth=1),\n",
    "           showmeans=True\n",
    "           )\n",
    "ax.set_xticklabels(['NAU','IMA','MADA','MOU','ALL'])\n",
    "\n",
    "plt.xlabel('WORD')\n",
    "plt.ylabel('GAP(s)')\n",
    "plt.ylim([-3600,3600])\n",
    "plt.yticks([-3600,-3000,-2400,-1800,-1200,-600,0,600,1200,1800,2400,3000,3600])\n",
    "plt.grid()\n",
    "\n",
    "plt.show()"
   ]
  },
  {
   "cell_type": "markdown",
   "metadata": {},
   "source": [
    "## show bootstrap confidence intervals"
   ]
  },
  {
   "cell_type": "code",
   "execution_count": 98,
   "metadata": {},
   "outputs": [
    {
     "data": {
      "image/png": "[encoded data removed]",
      "text/plain": [
       "<Figure size 432x432 with 1 Axes>"
      ]
     },
     "metadata": {
      "needs_background": "light"
     },
     "output_type": "display_data"
    }
   ],
   "source": [
    "plt.figure(figsize=(6,6))\n",
    "\n",
    "ax = sns.pointplot(data=data,join=False,capsize=0.2,ci=95)\n",
    "ax.set_xticklabels(['NAU','IMA','MADA','MOU','ALL'])\n",
    "\n",
    "plt.xlabel('WORD')\n",
    "plt.ylabel('GAP(s)')\n",
    "\n",
    "plt.yticks([-1800,-1200,-600,0,600,1200,1800,2400,3000,3600,4200])\n",
    "plt.grid()"
   ]
  },
  {
   "cell_type": "markdown",
   "metadata": {},
   "source": [
    "## calculate 95 percent confidence interval "
   ]
  },
  {
   "cell_type": "code",
   "execution_count": 111,
   "metadata": {},
   "outputs": [],
   "source": [
    "from scipy import stats\n",
    "def get_confidence_interval(X):\n",
    "    a = 0.95 #alpha\n",
    "    d = len(X)-1 #degree of freedom\n",
    "    m = np.mean(X) #sample mean\n",
    "    s = stats.sem(X) #unbiased standard error\n",
    "    print(m, stats.t.interval(alpha=a, df=d, loc=m, scale=s))"
   ]
  },
  {
   "cell_type": "code",
   "execution_count": 112,
   "metadata": {},
   "outputs": [
    {
     "name": "stdout",
     "output_type": "stream",
     "text": [
      "92.48648648648648 (49.01999037731411, 135.95298259565885)\n",
      "1737.1538461538462 (-806.5051714945171, 4280.81286380221)\n",
      "612.6 (-2743.857803170274, 3969.057803170274)\n",
      "6.293103448275862 (-279.97869229594716, 292.5648991924989)\n",
      "2571.7186540072607 (2313.730618057701, 2829.7066899568204)\n"
     ]
    }
   ],
   "source": [
    "for word in data:  # data=[NAU,IMA,MADA,MOU,ALL]\n",
    "    get_confidence_interval(word)  # output \"mean,(confidence_interval)\""
   ]
  }
 ],
 "metadata": {
  "interpreter": {
   "hash": "ff4a7a4a78ef411cca512ec91137b8be66fe0a34d5da5a9f541833801df813a7"
  },
  "kernelspec": {
   "display_name": "Python 3.8.8 ('base')",
   "language": "python",
   "name": "python3"
  },
  "language_info": {
   "codemirror_mode": {
    "name": "ipython",
    "version": 3
   },
   "file_extension": ".py",
   "mimetype": "text/x-python",
   "name": "python",
   "nbconvert_exporter": "python",
   "pygments_lexer": "ipython3",
   "version": "3.8.8"
  },
  "orig_nbformat": 4
 },
 "nbformat": 4,
 "nbformat_minor": 2
}
